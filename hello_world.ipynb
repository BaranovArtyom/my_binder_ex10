{
 "cells": [
  {
   "cell_type": "code",
   "execution_count": null,
   "id": "aba1173d",
   "metadata": {},
   "outputs": [],
   "source": [
    "print(\"Hello, World!\")"
   ]
  }
 ],
 "metadata": {},
 "nbformat": 4,
 "nbformat_minor": 5
}
